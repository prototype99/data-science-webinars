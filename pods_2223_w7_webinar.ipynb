{
  "nbformat": 4,
  "nbformat_minor": 0,
  "metadata": {
    "colab": {
      "provenance": [],
      "include_colab_link": true
    },
    "kernelspec": {
      "name": "python3",
      "display_name": "Python 3"
    },
    "language_info": {
      "name": "python"
    }
  },
  "cells": [
    {
      "cell_type": "markdown",
      "metadata": {
        "id": "view-in-github",
        "colab_type": "text"
      },
      "source": [
        "<a href=\"https://colab.research.google.com/github/prototype99/datasci-webinar/blob/main/pods_2223_w7_webinar.ipynb\" target=\"_parent\"><img src=\"https://colab.research.google.com/assets/colab-badge.svg\" alt=\"Open In Colab\"/></a>"
      ]
    },
    {
      "cell_type": "code",
      "execution_count": null,
      "metadata": {
        "id": "zOs_gjslzrOp"
      },
      "outputs": [],
      "source": [
        "%config InlineBackend.figure_format = 'retina'\n",
        "import pandas as pd\n",
        "import numpy as np\n",
        "import matplotlib.pyplot as plt\n",
        "import seaborn as sns\n",
        "sns.set(rc={'figure.figsize': (8,6)}, style='ticks', context='notebook')"
      ]
    },
    {
      "cell_type": "code",
      "source": [
        "\"\"\"\n",
        "* we need some mechanism for ranking the data on salary and retrieve a slice\n",
        "  from it (say, (top)/bottom)\n",
        "* we are dealing with a subset of departments and the criteria for obtaining\n",
        "  that is based on information on `department`. This suggests we need to \n",
        "  combine the data.\n",
        "* merging/subsetting (rows)/ranking/slicing/subsetting (columns)\n",
        "\"\"\"\n",
        "(\n",
        "    employees_df\n",
        "    .merge(departments_df, on='department_id', suffixes=['_emp', '_dep'])\n",
        "    # .query(\"department_name.isin([ 'IT', 'Sales' ])\")\n",
        "    # .query(\"department_name=='IT' or department_name=='Sales'\")\n",
        "    .sort_values('salary', ascending=False)\n",
        "    .head(5)\n",
        "    [ [ 'employee_id', 'last_name', 'first_name', 'department_name' ] ]\n",
        ")\n",
        "\n",
        "# emp_dep_df = employees_df.merge(departments_df, on='department_id', suffixes=['_emp', '_dep'])\n",
        "# (emp_dep_df\n",
        "#     [ (emp_dep_df['department_name']=='IT') | (emp_dep_df['department_name']=='Sales') ]\n",
        "#     .sort_values('salary', ascending=False)\n",
        "#     .head(5)\n",
        "#     [ [ 'employee_id', 'last_name', 'first_name', 'department_name', 'salary', 'commission_pct' ] ]\n",
        "# )"
      ],
      "metadata": {
        "id": "GfZRJLudzv5S"
      },
      "execution_count": null,
      "outputs": []
    },
    {
      "cell_type": "code",
      "source": [
        "# can we do the top earners by department?\n",
        "# (\n",
        "#     employees_df\n",
        "#     .merge(departments_df, on='department_id', suffixes=['_emp', '_dep'])\n",
        "#     .query(\"department_name.isin([ 'IT', 'Sales' ])\")\n",
        "#     .groupby('department_name')\n",
        "#     .sort_values('salary', ascending=False)\n",
        "#     .head(5)\n",
        "#     [ [ 'employee_id', 'last_name', 'first_name', 'department_name' ] ]\n",
        "# )\n",
        "\n",
        "grouped = (employees_df\n",
        "    .merge(departments_df, on='department_id', suffixes=['_emp', '_dep'])\n",
        "    .query(\"department_name.isin([ 'IT', 'Sales' ])\")\n",
        "    .groupby('department_name')\n",
        ")\n",
        "\n",
        "# from IPython.display import display\n",
        "# for k in grouped.groups.keys():\n",
        "#     df = grouped.get_group(k)\n",
        "#     display(\n",
        "#         df.sort_values('salary', ascending=False)\n",
        "#         .head(5)\n",
        "#         [ [ 'employee_id', 'last_name', 'first_name', 'department_name', 'salary' ] ]\n",
        "#     )\n",
        "    \n",
        "# this is beyond today's material... TODO\n",
        "pd.concat([ df for name, df in grouped ])"
      ],
      "metadata": {
        "colab": {
          "base_uri": "https://localhost:8080/",
          "height": 235
        },
        "id": "pMByMuEQDJg8",
        "outputId": "182a59b7-518e-4c45-8471-77f682c009a0"
      },
      "execution_count": null,
      "outputs": [
        {
          "output_type": "error",
          "ename": "NameError",
          "evalue": "ignored",
          "traceback": [
            "\u001b[0;31m---------------------------------------------------------------------------\u001b[0m",
            "\u001b[0;31mNameError\u001b[0m                                 Traceback (most recent call last)",
            "\u001b[0;32m<ipython-input-2-0f782df143ca>\u001b[0m in \u001b[0;36m<module>\u001b[0;34m\u001b[0m\n\u001b[1;32m     10\u001b[0m \u001b[0;31m# )\u001b[0m\u001b[0;34m\u001b[0m\u001b[0;34m\u001b[0m\u001b[0;34m\u001b[0m\u001b[0m\n\u001b[1;32m     11\u001b[0m \u001b[0;34m\u001b[0m\u001b[0m\n\u001b[0;32m---> 12\u001b[0;31m grouped = (employees_df\n\u001b[0m\u001b[1;32m     13\u001b[0m     \u001b[0;34m.\u001b[0m\u001b[0mmerge\u001b[0m\u001b[0;34m(\u001b[0m\u001b[0mdepartments_df\u001b[0m\u001b[0;34m,\u001b[0m \u001b[0mon\u001b[0m\u001b[0;34m=\u001b[0m\u001b[0;34m'department_id'\u001b[0m\u001b[0;34m,\u001b[0m \u001b[0msuffixes\u001b[0m\u001b[0;34m=\u001b[0m\u001b[0;34m[\u001b[0m\u001b[0;34m'_emp'\u001b[0m\u001b[0;34m,\u001b[0m \u001b[0;34m'_dep'\u001b[0m\u001b[0;34m]\u001b[0m\u001b[0;34m)\u001b[0m\u001b[0;34m\u001b[0m\u001b[0;34m\u001b[0m\u001b[0m\n\u001b[1;32m     14\u001b[0m     \u001b[0;34m.\u001b[0m\u001b[0mquery\u001b[0m\u001b[0;34m(\u001b[0m\u001b[0;34m\"department_name.isin([ 'IT', 'Sales' ])\"\u001b[0m\u001b[0;34m)\u001b[0m\u001b[0;34m\u001b[0m\u001b[0;34m\u001b[0m\u001b[0m\n",
            "\u001b[0;31mNameError\u001b[0m: name 'employees_df' is not defined"
          ]
        }
      ]
    },
    {
      "cell_type": "code",
      "source": [
        "# employees work for departments, which are located in locations, which are then in countries...\n",
        "(\n",
        "    employees_df\n",
        "    .merge(departments_df, on='department_id')\n",
        "    .merge(locations_df)\n",
        "    .merge(countries_df)\n",
        "    [ [ 'last_name', 'first_name', 'department_name', 'country_name', 'salary' ] ]\n",
        "    .query(\"country_name=='United Kingdom'\")\n",
        "    .sort_values('salary', ascending=False)\n",
        "    .head(10)\n",
        "    [ [ 'last_name', 'first_name', 'salary', 'department_name' ] ]\n",
        ")"
      ],
      "metadata": {
        "id": "YZumzM9pDMq4"
      },
      "execution_count": null,
      "outputs": []
    }
  ]
}