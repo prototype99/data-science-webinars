{
  "nbformat": 4,
  "nbformat_minor": 0,
  "metadata": {
    "colab": {
      "provenance": [],
      "include_colab_link": true
    },
    "kernelspec": {
      "name": "python3",
      "display_name": "Python 3"
    },
    "language_info": {
      "name": "python"
    }
  },
  "cells": [
    {
      "cell_type": "markdown",
      "metadata": {
        "id": "view-in-github",
        "colab_type": "text"
      },
      "source": [
        "<a href=\"https://colab.research.google.com/github/prototype99/datasci-webinar/blob/main/pods_2223_w9_lec_resampling.ipynb\" target=\"_parent\"><img src=\"https://colab.research.google.com/assets/colab-badge.svg\" alt=\"Open In Colab\"/></a>"
      ]
    },
    {
      "cell_type": "markdown",
      "source": [
        "# PoDS, 2022-23, Week 9, Resampling and Statistical Testing #1"
      ],
      "metadata": {
        "id": "gFct2pMjiGg6"
      }
    },
    {
      "cell_type": "markdown",
      "source": [
        "## Preamble (Packages)"
      ],
      "metadata": {
        "id": "rJfXqeeTidb_"
      }
    },
    {
      "cell_type": "code",
      "source": [
        "%config InlineBackend.figure_format = 'retina'\n",
        "import pandas as pd\n",
        "import numpy as np\n",
        "import matplotlib.pyplot as plt\n",
        "import seaborn as sns\n",
        "sns.set(rc={'figure.figsize': (8,6)}, style='ticks', context='talk', font_scale=0.8)"
      ],
      "metadata": {
        "id": "yF-7s9kDiWET"
      },
      "execution_count": null,
      "outputs": []
    },
    {
      "cell_type": "code",
      "source": [
        "# For some reason, Google Colab seems to be pulling out an older version\n",
        "# of `matplotlib` that does not have an implementation of `axline`\n",
        "# If I need it, I'll force an upgrade \n",
        "import matplotlib\n",
        "matplotlib.__version__"
      ],
      "metadata": {
        "colab": {
          "base_uri": "https://localhost:8080/",
          "height": 36
        },
        "id": "UG4pdSpEicR6",
        "outputId": "0ab77de0-15c0-4bff-e238-1d156340082f"
      },
      "execution_count": null,
      "outputs": [
        {
          "output_type": "execute_result",
          "data": {
            "text/plain": [
              "'3.2.2'"
            ],
            "application/vnd.google.colaboratory.intrinsic+json": {
              "type": "string"
            }
          },
          "metadata": {},
          "execution_count": 5
        }
      ]
    },
    {
      "cell_type": "markdown",
      "source": [
        "## Reproducibility"
      ],
      "metadata": {
        "id": "4O3jNzH-ilpa"
      }
    },
    {
      "cell_type": "code",
      "source": [
        "\"\"\"This sets up a random data generator for reproducibility. All functionality \n",
        "that involves some random data generation such as sampling from a normal \n",
        "distribution or suffling a data distribution, are accessible via `rng`\"\"\"\n",
        "rng = np.random.default_rng(seed=42)"
      ],
      "metadata": {
        "id": "sgyv3xEwjFMA"
      },
      "execution_count": null,
      "outputs": []
    },
    {
      "cell_type": "markdown",
      "metadata": {
        "id": "2c5819fc-41cc-4829-998a-a3c53d9b8e5d"
      },
      "source": [
        "## Intro"
      ]
    },
    {
      "cell_type": "markdown",
      "source": [
        "* We will see **resampling** for quantifying (un)certainty about findings."
      ],
      "metadata": {
        "id": "YUIAE8RZCO1r"
      }
    },
    {
      "cell_type": "markdown",
      "metadata": {
        "id": "c96a64f7-2ebc-470d-88ef-74ede4379abd"
      },
      "source": [
        "* The central idea here is on **quantifying (un)certainty** about an **estimate** or an **effect** seen in a data sample. The mindset is:\n",
        "\n",
        "    - **Repeat experiment/measurement** a number of times using **different data samples** to obtain a sampling distribution of **estimates** of the desired properties (**estimands**) of a data distribution.\n",
        "\n",
        "    - Estimands can be **mean**, mean **difference in groups**, **correlation**, **model accuracy**, among others.\n",
        "\n",
        "    - From the **sampling distribution**, one can derive metrics such as **confidence interval** (i.e., range of values this estimate can take) and **significance level** (i.e., confidence that this not a fluke)."
      ]
    },
    {
      "cell_type": "markdown",
      "metadata": {
        "id": "f4e36cd8-7574-4241-8e53-395ca5330dd6"
      },
      "source": [
        "* Examples: \n",
        "    - Measurement is systolic blood pressure; data sample is a group of 100 patients of a hospital in Manchester. Mean is 118. How confident can I be about this value? If it was feasible/possible to measure it on 1000s to different samples, what range of values would I  normally see? What is the **confidence interval**?\n",
        "\n",
        "    - **Difference in mean** systolic blood pressure between diabetic and non-diabetic patients is 12. Is this **significant**? If I were to **assume** that there was **no difference between the groups**, that the patients came from the same distribution, how often would I see a **difference as extreme**? (what is its **p-value**, if you'd like)\n",
        "\n",
        "* Normally, not feasible to obtain 1000s of samples in the wild; no access to the data generation procedure; use then the **existing sample for generating other data samples**."
      ]
    },
    {
      "cell_type": "markdown",
      "metadata": {
        "id": "85b665ea-cc25-4087-9ec0-674cdf9fc365"
      },
      "source": [
        "Why resampling?\n",
        "\n",
        "* You would have done statistical testing before... Specially for non-statisticians, offers a more natural framework. Basically, you just neeed to code, simulate, measure, repeat. One does not need to make assumptions about the distribution of the data (e.g., that it is normally-distributed).\n",
        "\n",
        "* Important for **claims** one would like to make (say, a group difference or a feature correlation) in typical data science projects.\n",
        "\n",
        "* Also, useful **building block** under-the-hood; a key component of many techniques (e.g., ensemble models in machine learning). But this is for another lecture.\n",
        "\n"
      ]
    },
    {
      "cell_type": "markdown",
      "metadata": {
        "tags": [],
        "id": "4b16b955-4658-474c-adc6-24bd87f2b761"
      },
      "source": [
        "## A First Look at Bootstrapping/Sampling with Replacement\n",
        "\n",
        "* Back to the main motivation for resampling: we would like to run an experiment over multiple samples, but we don't/might not have access to the data generating procedure. In that case, use the sample we have as the source, and bootstap-sample from it. \n",
        "\n",
        "* First, a quickly illustration of the concept, which involves sampling with replacement from a data ditribution to generate a single new sample.\n",
        "\n",
        "* I am using an iterator to show each element sampled, up to completing one bootstrapped sample of systolic pressure measurements."
      ]
    },
    {
      "cell_type": "code",
      "execution_count": null,
      "metadata": {
        "id": "285dced7-5486-43d8-93a5-012348eb0cca"
      },
      "outputs": [],
      "source": [
        "\"\"\"This is our sample of systolic blood pressure measurements from 30 adults\"\"\"\n",
        "sysp = np.array([ \n",
        "    89, 109, 130, 127, 116, 101, 130, 128, 105,  92,  99,  97, 124,\n",
        "   123, 111, 116, 110, 110, 123, 125,  94, 113, 116, 112, 117,  93,\n",
        "   106,  93, 107, 118\n",
        "])"
      ]
    },
    {
      "cell_type": "code",
      "execution_count": null,
      "metadata": {
        "id": "e419329c-d4c9-4813-ae0c-35870de443e3",
        "colab": {
          "base_uri": "https://localhost:8080/"
        },
        "outputId": "0bd0fc95-bc57-4635-b69b-ddede9d16452"
      },
      "outputs": [
        {
          "output_type": "stream",
          "name": "stdout",
          "text": [
            "original sample is [ 89  92  93  93  94  97  99 101 105 106 107 109 110 110 111 112 113 116\n",
            " 116 116 117 118 123 123 124 125 127 128 130 130]\n",
            "new sample is [ 93  93  93  94  97 101 110 112 112 112 113 116 116 116 116 116 117 118\n",
            " 123 123 123 124 124 125 125 127 130 130 130 130]\n"
          ]
        }
      ],
      "source": [
        "\"\"\"The new sample is generated from the existing distribution `sysp` with \n",
        "sampling with replacement via numpy's `.choice()` (arguments are data to be \n",
        "sampled, and how many values to be sampled). \n",
        "\n",
        "Think of a bingo game; bag with tokens; caller draws a token at a time; \n",
        "places token back in bag.\n",
        "\"\"\"\n",
        "\n",
        "new_sample = rng.choice(sysp, len(sysp))\n",
        "print(f\"original sample is {np.sort(sysp)}\")\n",
        "print(f\"new sample is {np.sort(new_sample)}\")"
      ]
    },
    {
      "cell_type": "code",
      "execution_count": null,
      "metadata": {
        "colab": {
          "base_uri": "https://localhost:8080/"
        },
        "id": "4ea72798-5a32-4b7b-9ad2-a5a24cf83d58",
        "outputId": "11a7ea5c-f6c1-4fbf-c674-c7b3ff92cd45"
      },
      "outputs": [
        {
          "output_type": "execute_result",
          "data": {
            "text/plain": [
              "(111.13333333333334, 115.3)"
            ]
          },
          "metadata": {},
          "execution_count": 9
        }
      ],
      "source": [
        "\"\"\"What are the means of the original data sample and its bootstrap sample?\"\"\"\n",
        "# new sample is a list; I'll convert it to numpy array first\n",
        "sysp.mean(), new_sample.mean()"
      ]
    },
    {
      "cell_type": "markdown",
      "metadata": {
        "id": "0323b8bb-108f-4883-a986-7a117d625ece"
      },
      "source": [
        "## Confidence Interval with Bootstrapping: Estimating the Mean of a Distribution\n",
        "\n",
        "* I will demonstrate here the principle and usefulness of bootstrap sampling with the example of obtaining a confidence interval for the mean of a distribution."
      ]
    },
    {
      "cell_type": "markdown",
      "metadata": {
        "id": "2a35a793-a9c2-47ac-be58-1afec9f1ddac"
      },
      "source": [
        "### Building a Sampling Distribution of Means"
      ]
    },
    {
      "cell_type": "markdown",
      "source": [
        "* Let us start with 100 bootstrap samples of the original data and, then, observe the distribution of means (that is, the distribution of the mean value of each sample obtained via resampling from the original data)."
      ],
      "metadata": {
        "id": "aRppzdjVkehJ"
      }
    },
    {
      "cell_type": "code",
      "execution_count": null,
      "metadata": {
        "colab": {
          "base_uri": "https://localhost:8080/"
        },
        "id": "e49cbebd-e64c-4ea6-b8f1-3dca67a06aec",
        "outputId": "adcd56a0-93fb-4e68-919c-6c196d921169"
      },
      "outputs": [
        {
          "output_type": "stream",
          "name": "stdout",
          "text": [
            "(10000, 30)\n"
          ]
        }
      ],
      "source": [
        "\"\"\"creates a empty two-dimensional array for the bootstrap samples (only 100\n",
        "for this first simulation). The array has a (n,m) shape, where `n` is the number\n",
        "of samples and `m` is the size of the (original) data sample (each row is a \n",
        "sample, in other words).\"\"\"\n",
        "original_data = sysp\n",
        "num_samples = 10000\n",
        "bootstrap_samples = np.empty((num_samples, len(original_data)))\n",
        "print(bootstrap_samples.shape)"
      ]
    },
    {
      "cell_type": "code",
      "execution_count": null,
      "metadata": {
        "id": "622d9dd6-e733-40d9-b1f3-d0bf0ac16714"
      },
      "outputs": [],
      "source": [
        "\"\"\"Builds the array with 100 samples. `i` is used for indexing the rows of the\n",
        "array (from 0 to 99). `.choice()` is the resampler here; it takes the original\n",
        "data as the argument (a numpy vector of `m` elements, which is our blood \n",
        "pressure measurements) and produces a data sample of the same size via\n",
        "sampling with replacement.\"\"\"\n",
        "for i in range(0, num_samples):\n",
        "    bootstrap_samples[i] = rng.choice(original_data, len(original_data))"
      ]
    },
    {
      "cell_type": "code",
      "execution_count": null,
      "metadata": {
        "colab": {
          "base_uri": "https://localhost:8080/"
        },
        "id": "c0c4b841-ff77-4cd7-989d-06736f38430d",
        "outputId": "ccf54a7d-6133-4eac-ee6a-a48d219c095f"
      },
      "outputs": [
        {
          "output_type": "execute_result",
          "data": {
            "text/plain": [
              "array([123., 118., 111., 123., 123., 106., 117.,  93., 116., 112.,  99.,\n",
              "       123., 116., 130., 113.,  89., 110., 111., 111., 111., 111., 124.,\n",
              "       123., 110., 116., 110., 125.,  93., 118., 127.])"
            ]
          },
          "metadata": {},
          "execution_count": 28
        }
      ],
      "source": [
        "\"\"\"Just to make that this makes sense and is working, this is the first sample\"\"\"\n",
        "bootstrap_samples[3]"
      ]
    },
    {
      "cell_type": "code",
      "execution_count": null,
      "metadata": {
        "colab": {
          "base_uri": "https://localhost:8080/"
        },
        "id": "0b6d65d2-d582-4469-8e79-976ac7326390",
        "outputId": "46fd8893-ad6f-46ef-8e68-557be7249b8c"
      },
      "outputs": [
        {
          "output_type": "execute_result",
          "data": {
            "text/plain": [
              "114.9"
            ]
          },
          "metadata": {},
          "execution_count": 18
        }
      ],
      "source": [
        "\"\"\"and this is the mean of the first sample\"\"\"\n",
        "bootstrap_samples[0].mean()"
      ]
    },
    {
      "cell_type": "code",
      "execution_count": null,
      "metadata": {
        "colab": {
          "base_uri": "https://localhost:8080/"
        },
        "id": "82dc4970-9e15-4879-9078-a071821d6618",
        "outputId": "524d77f1-2f65-4f9e-f450-57cddbd2d119"
      },
      "outputs": [
        {
          "output_type": "execute_result",
          "data": {
            "text/plain": [
              "array([108.6       , 115.16666667, 106.        , ..., 110.33333333,\n",
              "       112.5       , 113.5       ])"
            ]
          },
          "metadata": {},
          "execution_count": 29
        }
      ],
      "source": [
        "\"\"\"the vectorised `.mean()` operation works across rows (`axis=1`), returning\n",
        "a vector with 100 means (one for each sample)\"\"\"\n",
        "bootstrap_means = bootstrap_samples.mean(axis=1)\n",
        "# just a quick look to see if it makes sense\n",
        "bootstrap_means"
      ]
    },
    {
      "cell_type": "code",
      "execution_count": null,
      "metadata": {
        "colab": {
          "base_uri": "https://localhost:8080/",
          "height": 84
        },
        "id": "7a27f6aa-c591-4565-9b4d-63d98108ff72",
        "outputId": "e08d507f-8c64-4893-dc39-6c90d9096489"
      },
      "outputs": [
        {
          "output_type": "display_data",
          "data": {
            "text/plain": [
              "<Figure size 504x36 with 1 Axes>"
            ],
            "image/png": "[encoded data removed]"
          },
          "metadata": {
            "image/png": {
              "width": 413,
              "height": 67
            }
          }
        }
      ],
      "source": [
        "\"\"\"We could have a look at the distribution of means along a number line\n",
        "via a seaborn stripplot. I have added some transparency and jitter for easier\n",
        "visualisation. Each dot is the mean of a bootstrap sample.\"\"\"\n",
        "fig, ax = plt.subplots(figsize=(7,0.5))\n",
        "sns.stripplot(x=bootstrap_means, jitter=0.1, alpha=0.5, ax=ax);"
      ]
    },
    {
      "cell_type": "markdown",
      "metadata": {
        "id": "51e4545e-fe04-4b3f-86e3-7c12b6f1865d"
      },
      "source": [
        "### The Sampling Distribution of Means as a Histogram, and Percentiles"
      ]
    },
    {
      "cell_type": "markdown",
      "source": [
        "* We have now a **sampling distribution** of **means** of diastolic blood pressure samples. I am only using only 100 for ease of demonstration. For observing the centrality and dispersion of that distribution, a histogram comes handy. I am adding a *rug* so that we can see where individual points lie."
      ],
      "metadata": {
        "id": "AHfE4OnHoG6f"
      }
    },
    {
      "cell_type": "code",
      "execution_count": null,
      "metadata": {
        "colab": {
          "base_uri": "https://localhost:8080/",
          "height": 219
        },
        "id": "94a1ebc5-9a3e-48e3-aca5-c513d63be452",
        "outputId": "be7ff81f-f89e-4af2-9caa-e859cf17e459"
      },
      "outputs": [
        {
          "output_type": "display_data",
          "data": {
            "text/plain": [
              "<Figure size 504x216 with 1 Axes>"
            ],
            "image/png": "[encoded data removed]"
          },
          "metadata": {
            "image/png": {
              "width": 464,
              "height": 202
            }
          }
        }
      ],
      "source": [
        "fig, ax = plt.subplots(figsize=(7,3))\n",
        "ax = sns.histplot(x=bootstrap_means, stat='proportion', bins=20)\n",
        "sns.rugplot(x=bootstrap_means, ax=ax, color=\"aqua\", height=0.05, linewidth=0.5);\n",
        "# One can find matplotlib named colours at \n",
        "# https://matplotlib.org/stable/gallery/color/named_colors.html"
      ]
    },
    {
      "cell_type": "markdown",
      "source": [
        "* We get to the point of obtaining a confidence interval now, based on our sampling distribution of means from the bootstrap samples. The mean of the original sample of systolic blood pressures is:"
      ],
      "metadata": {
        "id": "2gyEvODqpFpu"
      }
    },
    {
      "cell_type": "code",
      "source": [
        "original_data.mean()"
      ],
      "metadata": {
        "colab": {
          "base_uri": "https://localhost:8080/"
        },
        "id": "EKE7Oy-8rD51",
        "outputId": "4c29a27c-2776-43d5-a65d-c2b50930a36f"
      },
      "execution_count": null,
      "outputs": [
        {
          "output_type": "execute_result",
          "data": {
            "text/plain": [
              "111.13333333333334"
            ]
          },
          "metadata": {},
          "execution_count": 23
        }
      ]
    },
    {
      "cell_type": "markdown",
      "source": [
        "To obtain a **95% confidence interval**, we just need to look at the middle 95% of the sampling distribution and pick up the **percentiles** that define that range (95% is the most common, but you could well decide on 90%, 99%, and so on).\n",
        "\n",
        "The histogram below has lines representing the mean and the median, as well as the 2.5 and 97.5 quantiles, which demarcate the middle 95% interval for mean values."
      ],
      "metadata": {
        "id": "rtvs8ucurIsY"
      }
    },
    {
      "cell_type": "code",
      "execution_count": null,
      "metadata": {
        "colab": {
          "base_uri": "https://localhost:8080/",
          "height": 222
        },
        "id": "a8fc5d56-d7b4-4247-9490-c317e6db9775",
        "outputId": "4983b8f3-5984-4919-d020-b14bceea16f3"
      },
      "outputs": [
        {
          "output_type": "display_data",
          "data": {
            "text/plain": [
              "<Figure size 504x216 with 1 Axes>"
            ],
            "image/png": "[encoded data removed]"
          },
          "metadata": {
            "image/png": {
              "width": 464,
              "height": 205
            }
          }
        }
      ],
      "source": [
        "fig, ax = plt.subplots(figsize=(7,3))\n",
        "ax = sns.histplot(x=bootstrap_means, stat=\"proportion\")\n",
        "sns.rugplot(x=bootstrap_means, ax=ax, height=0.05, color=\"aqua\", linewidth=0.5);\n",
        "\n",
        "ax.axvline(bootstrap_means.mean(), color=\"lightsalmon\", linewidth=0.5)\n",
        "ax.axvline(np.percentile(bootstrap_means, 2.5), color=\"fuchsia\", linewidth=0.5)\n",
        "ax.axvline(np.percentile(bootstrap_means, 50), color=\"fuchsia\", linewidth=0.5)\n",
        "ax.axvline(np.percentile(bootstrap_means, 97.5), color=\"fuchsia\", linewidth=0.5);"
      ]
    },
    {
      "cell_type": "code",
      "source": [
        "\"\"\"So, these are the mean and the confidence interval (at 95% level) of \n",
        "systolic blood pressures\"\"\"\n",
        "print(original_data.mean())\n",
        "print(np.percentile(bootstrap_means, 2.5))\n",
        "print(np.percentile(bootstrap_means, 97.5))"
      ],
      "metadata": {
        "colab": {
          "base_uri": "https://localhost:8080/"
        },
        "id": "Bc5DkZuWsAht",
        "outputId": "25dc133f-5ea9-4d7b-e502-1f3a598adf43"
      },
      "execution_count": null,
      "outputs": [
        {
          "output_type": "stream",
          "name": "stdout",
          "text": [
            "111.13333333333334\n",
            "106.83333333333333\n",
            "115.5\n"
          ]
        }
      ]
    },
    {
      "cell_type": "code",
      "source": [
        "\"\"\"or simply\"\"\"\n",
        "print(np.mean(original_data), np.percentile(bootstrap_means, [2.5,97.5]))"
      ],
      "metadata": {
        "colab": {
          "base_uri": "https://localhost:8080/"
        },
        "id": "-E9QY03Qssic",
        "outputId": "193e678d-ad3f-4862-f06d-aac14174d25e"
      },
      "execution_count": null,
      "outputs": [
        {
          "output_type": "stream",
          "name": "stdout",
          "text": [
            "111.13333333333334 [107.38333333 115.3325    ]\n"
          ]
        }
      ]
    },
    {
      "cell_type": "code",
      "source": [],
      "metadata": {
        "id": "58T9MZpTU03v"
      },
      "execution_count": null,
      "outputs": []
    }
  ]
}