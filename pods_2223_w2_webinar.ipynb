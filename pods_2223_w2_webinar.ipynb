{
  "nbformat": 4,
  "nbformat_minor": 0,
  "metadata": {
    "kernelspec": {
      "display_name": "Python 3",
      "language": "python",
      "name": "python3"
    },
    "language_info": {
      "codemirror_mode": {
        "name": "ipython",
        "version": 3
      },
      "file_extension": ".py",
      "mimetype": "text/x-python",
      "name": "python",
      "nbconvert_exporter": "python",
      "pygments_lexer": "ipython3",
      "version": "3.9.5"
    },
    "toc": {
      "base_numbering": 1,
      "nav_menu": {},
      "number_sections": false,
      "sideBar": true,
      "skip_h1_title": false,
      "title_cell": "Table of Contents",
      "title_sidebar": "Contents",
      "toc_cell": true,
      "toc_position": {},
      "toc_section_display": true,
      "toc_window_display": false
    },
    "colab": {
      "provenance": [],
      "collapsed_sections": [],
      "include_colab_link": true
    }
  },
  "cells": [
    {
      "cell_type": "markdown",
      "metadata": {
        "id": "view-in-github",
        "colab_type": "text"
      },
      "source": [
        "<a href=\"https://colab.research.google.com/github/prototype99/datasci-webinar/blob/main/pods_2223_w2_webinar.ipynb\" target=\"_parent\"><img src=\"https://colab.research.google.com/assets/colab-badge.svg\" alt=\"Open In Colab\"/></a>"
      ]
    },
    {
      "cell_type": "markdown",
      "metadata": {
        "toc": "true",
        "id": "2gL6MQeJrRTp"
      },
      "source": [
        "<h1>Table of Contents<span class=\"tocSkip\"></span></h1>\n",
        "<div class=\"toc\"><ul class=\"toc-item\"><li><span><a href=\"#Data-Understanding-and-Exploration-Challenge-with-titanic\" data-toc-modified-id=\"Data-Understanding-and-Exploration-Challenge-with-titanic-1\">Data Understanding and Exploration Challenge with <code>titanic</code></a></span></li></ul></div>"
      ]
    },
    {
      "cell_type": "markdown",
      "metadata": {
        "id": "y0OSYGCPrRTs"
      },
      "source": [
        "# Data Understanding and Exploration Challenge with `titanic`\n",
        "\n",
        "Here, some sample solutions to the tasks provided."
      ]
    },
    {
      "cell_type": "markdown",
      "metadata": {
        "id": "ZExYotCqrRTs"
      },
      "source": [
        "The usual preamble for importing essential packages and configuring the plotting engine."
      ]
    },
    {
      "cell_type": "code",
      "metadata": {
        "id": "i_TAv29Wlx9p"
      },
      "source": [
        "import pandas as pd\n",
        "import numpy as np\n",
        "import matplotlib.pyplot as plt\n",
        "import seaborn as sns\n",
        "sns.set(\n",
        "    { \"figure.figsize\": (11,7) },\n",
        "    palette=\"Set3\",\n",
        "    style='ticks'\n",
        ")"
      ],
      "execution_count": null,
      "outputs": []
    },
    {
      "cell_type": "markdown",
      "metadata": {
        "id": "hRKH3HzIrRTw"
      },
      "source": [
        "Firstly, **obtain the data**. You could have a look at the documentation, and save the text file locally somewhere suitable in your home area."
      ]
    },
    {
      "cell_type": "markdown",
      "metadata": {
        "id": "KTXtL02srRTx"
      },
      "source": [
        "The Kaggle version of the Titanic dataset can be found in my [GitHub area](https://raw.githubusercontent.com/gerberl/6g7v0026-2122/main/datasets/titanic-kaggle/titanic.csv). For a simple explanation of the features, please refer to the [Kaggle page](https://www.kaggle.com/c/titanic/data)."
      ]
    },
    {
      "cell_type": "markdown",
      "metadata": {
        "id": "fcRjdQA1rRTx"
      },
      "source": [
        "Then, **instantiate a DataFrame** for the `titanic` dataset. We want to inspect and explore it with `pandas` (and its plotting engine). Have a **glimpse at the data**, making a quick inspection of its structure and content."
      ]
    },
    {
      "cell_type": "code",
      "metadata": {
        "id": "V2Pkar56rRTx"
      },
      "source": [
        "titanic_df = pd.read_csv(\n",
        "    'https://raw.githubusercontent.com/gerberl/6g7v0026-2122/main/datasets/titanic-kaggle/titanic.csv'\n",
        ")"
      ],
      "execution_count": null,
      "outputs": []
    },
    {
      "cell_type": "code",
      "metadata": {
        "colab": {
          "base_uri": "https://localhost:8080/"
        },
        "id": "gtkwvc14-Lne",
        "outputId": "468d3af9-9459-4c05-eb53-c94824608afb"
      },
      "source": [
        "titanic_df.shape"
      ],
      "execution_count": null,
      "outputs": [
        {
          "output_type": "execute_result",
          "data": {
            "text/plain": [
              "(891, 12)"
            ]
          },
          "metadata": {},
          "execution_count": 41
        }
      ]
    },
    {
      "cell_type": "code",
      "metadata": {
        "id": "HnrQQ6UErRTy",
        "colab": {
          "base_uri": "https://localhost:8080/",
          "height": 292
        },
        "outputId": "07a51328-c294-4c69-92e7-0dbb046ad9c7"
      },
      "source": [
        "titanic_df.head(3)"
      ],
      "execution_count": null,
      "outputs": [
        {
          "output_type": "execute_result",
          "data": {
            "text/plain": [
              "   PassengerId  Survived  Pclass  \\\n",
              "0            1         0       3   \n",
              "1            2         1       1   \n",
              "2            3         1       3   \n",
              "\n",
              "                                                Name     Sex   Age  SibSp  \\\n",
              "0                            Braund, Mr. Owen Harris    male  22.0      1   \n",
              "1  Cumings, Mrs. John Bradley (Florence Briggs Th...  female  38.0      1   \n",
              "2                             Heikkinen, Miss. Laina  female  26.0      0   \n",
              "\n",
              "   Parch            Ticket     Fare Cabin Embarked  \n",
              "0      0         A/5 21171   7.2500   NaN        S  \n",
              "1      0          PC 17599  71.2833   C85        C  \n",
              "2      0  STON/O2. 3101282   7.9250   NaN        S  "
            ],
            "text/html": [
              "\n",
              "  <div id=\"df-4557661d-83d7-4adb-baa1-16e0e7f30a38\">\n",
              "    <div class=\"colab-df-container\">\n",
              "      <div>\n",
              "<style scoped>\n",
              "    .dataframe tbody tr th:only-of-type {\n",
              "        vertical-align: middle;\n",
              "    }\n",
              "\n",
              "    .dataframe tbody tr th {\n",
              "        vertical-align: top;\n",
              "    }\n",
              "\n",
              "    .dataframe thead th {\n",
              "        text-align: right;\n",
              "    }\n",
              "</style>\n",
              "<table border=\"1\" class=\"dataframe\">\n",
              "  <thead>\n",
              "    <tr style=\"text-align: right;\">\n",
              "      <th></th>\n",
              "      <th>PassengerId</th>\n",
              "      <th>Survived</th>\n",
              "      <th>Pclass</th>\n",
              "      <th>Name</th>\n",
              "      <th>Sex</th>\n",
              "      <th>Age</th>\n",
              "      <th>SibSp</th>\n",
              "      <th>Parch</th>\n",
              "      <th>Ticket</th>\n",
              "      <th>Fare</th>\n",
              "      <th>Cabin</th>\n",
              "      <th>Embarked</th>\n",
              "    </tr>\n",
              "  </thead>\n",
              "  <tbody>\n",
              "    <tr>\n",
              "      <th>0</th>\n",
              "      <td>1</td>\n",
              "      <td>0</td>\n",
              "      <td>3</td>\n",
              "      <td>Braund, Mr. Owen Harris</td>\n",
              "      <td>male</td>\n",
              "      <td>22.0</td>\n",
              "      <td>1</td>\n",
              "      <td>0</td>\n",
              "      <td>A/5 21171</td>\n",
              "      <td>7.2500</td>\n",
              "      <td>NaN</td>\n",
              "      <td>S</td>\n",
              "    </tr>\n",
              "    <tr>\n",
              "      <th>1</th>\n",
              "      <td>2</td>\n",
              "      <td>1</td>\n",
              "      <td>1</td>\n",
              "      <td>Cumings, Mrs. John Bradley (Florence Briggs Th...</td>\n",
              "      <td>female</td>\n",
              "      <td>38.0</td>\n",
              "      <td>1</td>\n",
              "      <td>0</td>\n",
              "      <td>PC 17599</td>\n",
              "      <td>71.2833</td>\n",
              "      <td>C85</td>\n",
              "      <td>C</td>\n",
              "    </tr>\n",
              "    <tr>\n",
              "      <th>2</th>\n",
              "      <td>3</td>\n",
              "      <td>1</td>\n",
              "      <td>3</td>\n",
              "      <td>Heikkinen, Miss. Laina</td>\n",
              "      <td>female</td>\n",
              "      <td>26.0</td>\n",
              "      <td>0</td>\n",
              "      <td>0</td>\n",
              "      <td>STON/O2. 3101282</td>\n",
              "      <td>7.9250</td>\n",
              "      <td>NaN</td>\n",
              "      <td>S</td>\n",
              "    </tr>\n",
              "  </tbody>\n",
              "</table>\n",
              "</div>\n",
              "      <button class=\"colab-df-convert\" onclick=\"convertToInteractive('df-4557661d-83d7-4adb-baa1-16e0e7f30a38')\"\n",
              "              title=\"Convert this dataframe to an interactive table.\"\n",
              "              style=\"display:none;\">\n",
              "        \n",
              "  <svg xmlns=\"http://www.w3.org/2000/svg\" height=\"24px\"viewBox=\"0 0 24 24\"\n",
              "       width=\"24px\">\n",
              "    <path d=\"M0 0h24v24H0V0z\" fill=\"none\"/>\n",
              "    <path d=\"M18.56 5.44l.94 2.06.94-2.06 2.06-.94-2.06-.94-.94-2.06-.94 2.06-2.06.94zm-11 1L8.5 8.5l.94-2.06 2.06-.94-2.06-.94L8.5 2.5l-.94 2.06-2.06.94zm10 10l.94 2.06.94-2.06 2.06-.94-2.06-.94-.94-2.06-.94 2.06-2.06.94z\"/><path d=\"M17.41 7.96l-1.37-1.37c-.4-.4-.92-.59-1.43-.59-.52 0-1.04.2-1.43.59L10.3 9.45l-7.72 7.72c-.78.78-.78 2.05 0 2.83L4 21.41c.39.39.9.59 1.41.59.51 0 1.02-.2 1.41-.59l7.78-7.78 2.81-2.81c.8-.78.8-2.07 0-2.86zM5.41 20L4 18.59l7.72-7.72 1.47 1.35L5.41 20z\"/>\n",
              "  </svg>\n",
              "      </button>\n",
              "      \n",
              "  <style>\n",
              "    .colab-df-container {\n",
              "      display:flex;\n",
              "      flex-wrap:wrap;\n",
              "      gap: 12px;\n",
              "    }\n",
              "\n",
              "    .colab-df-convert {\n",
              "      background-color: #E8F0FE;\n",
              "      border: none;\n",
              "      border-radius: 50%;\n",
              "      cursor: pointer;\n",
              "      display: none;\n",
              "      fill: #1967D2;\n",
              "      height: 32px;\n",
              "      padding: 0 0 0 0;\n",
              "      width: 32px;\n",
              "    }\n",
              "\n",
              "    .colab-df-convert:hover {\n",
              "      background-color: #E2EBFA;\n",
              "      box-shadow: 0px 1px 2px rgba(60, 64, 67, 0.3), 0px 1px 3px 1px rgba(60, 64, 67, 0.15);\n",
              "      fill: #174EA6;\n",
              "    }\n",
              "\n",
              "    [theme=dark] .colab-df-convert {\n",
              "      background-color: #3B4455;\n",
              "      fill: #D2E3FC;\n",
              "    }\n",
              "\n",
              "    [theme=dark] .colab-df-convert:hover {\n",
              "      background-color: #434B5C;\n",
              "      box-shadow: 0px 1px 3px 1px rgba(0, 0, 0, 0.15);\n",
              "      filter: drop-shadow(0px 1px 2px rgba(0, 0, 0, 0.3));\n",
              "      fill: #FFFFFF;\n",
              "    }\n",
              "  </style>\n",
              "\n",
              "      <script>\n",
              "        const buttonEl =\n",
              "          document.querySelector('#df-4557661d-83d7-4adb-baa1-16e0e7f30a38 button.colab-df-convert');\n",
              "        buttonEl.style.display =\n",
              "          google.colab.kernel.accessAllowed ? 'block' : 'none';\n",
              "\n",
              "        async function convertToInteractive(key) {\n",
              "          const element = document.querySelector('#df-4557661d-83d7-4adb-baa1-16e0e7f30a38');\n",
              "          const dataTable =\n",
              "            await google.colab.kernel.invokeFunction('convertToInteractive',\n",
              "                                                     [key], {});\n",
              "          if (!dataTable) return;\n",
              "\n",
              "          const docLinkHtml = 'Like what you see? Visit the ' +\n",
              "            '<a target=\"_blank\" href=https://colab.research.google.com/notebooks/data_table.ipynb>data table notebook</a>'\n",
              "            + ' to learn more about interactive tables.';\n",
              "          element.innerHTML = '';\n",
              "          dataTable['output_type'] = 'display_data';\n",
              "          await google.colab.output.renderOutput(dataTable, element);\n",
              "          const docLink = document.createElement('div');\n",
              "          docLink.innerHTML = docLinkHtml;\n",
              "          element.appendChild(docLink);\n",
              "        }\n",
              "      </script>\n",
              "    </div>\n",
              "  </div>\n",
              "  "
            ]
          },
          "metadata": {},
          "execution_count": 42
        }
      ]
    },
    {
      "cell_type": "markdown",
      "metadata": {
        "id": "lV8pHfSurRTz"
      },
      "source": [
        "It makes sense to turn `PassengerId` into the DataFrame's (row) index. `set_index` will help you."
      ]
    },
    {
      "cell_type": "code",
      "metadata": {
        "id": "rSQrWv3brRTz"
      },
      "source": [
        "titanic_df = titanic_df.set_index('PassengerId')"
      ],
      "execution_count": null,
      "outputs": []
    },
    {
      "cell_type": "code",
      "source": [
        "titanic_df.head(1)"
      ],
      "metadata": {
        "colab": {
          "base_uri": "https://localhost:8080/",
          "height": 173
        },
        "id": "DGjVuTEbaZ1Q",
        "outputId": "f011152b-f44b-45d1-a8d0-e5da19d9159e"
      },
      "execution_count": null,
      "outputs": [
        {
          "output_type": "execute_result",
          "data": {
            "text/plain": [
              "             Survived  Pclass                     Name   Sex   Age  SibSp  \\\n",
              "PassengerId                                                                 \n",
              "1                   0       3  Braund, Mr. Owen Harris  male  22.0      1   \n",
              "\n",
              "             Parch     Ticket  Fare Cabin Embarked  \n",
              "PassengerId                                         \n",
              "1                0  A/5 21171  7.25   NaN        S  "
            ],
            "text/html": [
              "\n",
              "  <div id=\"df-06edfc89-8791-43c4-bfac-07664bfbd7ae\">\n",
              "    <div class=\"colab-df-container\">\n",
              "      <div>\n",
              "<style scoped>\n",
              "    .dataframe tbody tr th:only-of-type {\n",
              "        vertical-align: middle;\n",
              "    }\n",
              "\n",
              "    .dataframe tbody tr th {\n",
              "        vertical-align: top;\n",
              "    }\n",
              "\n",
              "    .dataframe thead th {\n",
              "        text-align: right;\n",
              "    }\n",
              "</style>\n",
              "<table border=\"1\" class=\"dataframe\">\n",
              "  <thead>\n",
              "    <tr style=\"text-align: right;\">\n",
              "      <th></th>\n",
              "      <th>Survived</th>\n",
              "      <th>Pclass</th>\n",
              "      <th>Name</th>\n",
              "      <th>Sex</th>\n",
              "      <th>Age</th>\n",
              "      <th>SibSp</th>\n",
              "      <th>Parch</th>\n",
              "      <th>Ticket</th>\n",
              "      <th>Fare</th>\n",
              "      <th>Cabin</th>\n",
              "      <th>Embarked</th>\n",
              "    </tr>\n",
              "    <tr>\n",
              "      <th>PassengerId</th>\n",
              "      <th></th>\n",
              "      <th></th>\n",
              "      <th></th>\n",
              "      <th></th>\n",
              "      <th></th>\n",
              "      <th></th>\n",
              "      <th></th>\n",
              "      <th></th>\n",
              "      <th></th>\n",
              "      <th></th>\n",
              "      <th></th>\n",
              "    </tr>\n",
              "  </thead>\n",
              "  <tbody>\n",
              "    <tr>\n",
              "      <th>1</th>\n",
              "      <td>0</td>\n",
              "      <td>3</td>\n",
              "      <td>Braund, Mr. Owen Harris</td>\n",
              "      <td>male</td>\n",
              "      <td>22.0</td>\n",
              "      <td>1</td>\n",
              "      <td>0</td>\n",
              "      <td>A/5 21171</td>\n",
              "      <td>7.25</td>\n",
              "      <td>NaN</td>\n",
              "      <td>S</td>\n",
              "    </tr>\n",
              "  </tbody>\n",
              "</table>\n",
              "</div>\n",
              "      <button class=\"colab-df-convert\" onclick=\"convertToInteractive('df-06edfc89-8791-43c4-bfac-07664bfbd7ae')\"\n",
              "              title=\"Convert this dataframe to an interactive table.\"\n",
              "              style=\"display:none;\">\n",
              "        \n",
              "  <svg xmlns=\"http://www.w3.org/2000/svg\" height=\"24px\"viewBox=\"0 0 24 24\"\n",
              "       width=\"24px\">\n",
              "    <path d=\"M0 0h24v24H0V0z\" fill=\"none\"/>\n",
              "    <path d=\"M18.56 5.44l.94 2.06.94-2.06 2.06-.94-2.06-.94-.94-2.06-.94 2.06-2.06.94zm-11 1L8.5 8.5l.94-2.06 2.06-.94-2.06-.94L8.5 2.5l-.94 2.06-2.06.94zm10 10l.94 2.06.94-2.06 2.06-.94-2.06-.94-.94-2.06-.94 2.06-2.06.94z\"/><path d=\"M17.41 7.96l-1.37-1.37c-.4-.4-.92-.59-1.43-.59-.52 0-1.04.2-1.43.59L10.3 9.45l-7.72 7.72c-.78.78-.78 2.05 0 2.83L4 21.41c.39.39.9.59 1.41.59.51 0 1.02-.2 1.41-.59l7.78-7.78 2.81-2.81c.8-.78.8-2.07 0-2.86zM5.41 20L4 18.59l7.72-7.72 1.47 1.35L5.41 20z\"/>\n",
              "  </svg>\n",
              "      </button>\n",
              "      \n",
              "  <style>\n",
              "    .colab-df-container {\n",
              "      display:flex;\n",
              "      flex-wrap:wrap;\n",
              "      gap: 12px;\n",
              "    }\n",
              "\n",
              "    .colab-df-convert {\n",
              "      background-color: #E8F0FE;\n",
              "      border: none;\n",
              "      border-radius: 50%;\n",
              "      cursor: pointer;\n",
              "      display: none;\n",
              "      fill: #1967D2;\n",
              "      height: 32px;\n",
              "      padding: 0 0 0 0;\n",
              "      width: 32px;\n",
              "    }\n",
              "\n",
              "    .colab-df-convert:hover {\n",
              "      background-color: #E2EBFA;\n",
              "      box-shadow: 0px 1px 2px rgba(60, 64, 67, 0.3), 0px 1px 3px 1px rgba(60, 64, 67, 0.15);\n",
              "      fill: #174EA6;\n",
              "    }\n",
              "\n",
              "    [theme=dark] .colab-df-convert {\n",
              "      background-color: #3B4455;\n",
              "      fill: #D2E3FC;\n",
              "    }\n",
              "\n",
              "    [theme=dark] .colab-df-convert:hover {\n",
              "      background-color: #434B5C;\n",
              "      box-shadow: 0px 1px 3px 1px rgba(0, 0, 0, 0.15);\n",
              "      filter: drop-shadow(0px 1px 2px rgba(0, 0, 0, 0.3));\n",
              "      fill: #FFFFFF;\n",
              "    }\n",
              "  </style>\n",
              "\n",
              "      <script>\n",
              "        const buttonEl =\n",
              "          document.querySelector('#df-06edfc89-8791-43c4-bfac-07664bfbd7ae button.colab-df-convert');\n",
              "        buttonEl.style.display =\n",
              "          google.colab.kernel.accessAllowed ? 'block' : 'none';\n",
              "\n",
              "        async function convertToInteractive(key) {\n",
              "          const element = document.querySelector('#df-06edfc89-8791-43c4-bfac-07664bfbd7ae');\n",
              "          const dataTable =\n",
              "            await google.colab.kernel.invokeFunction('convertToInteractive',\n",
              "                                                     [key], {});\n",
              "          if (!dataTable) return;\n",
              "\n",
              "          const docLinkHtml = 'Like what you see? Visit the ' +\n",
              "            '<a target=\"_blank\" href=https://colab.research.google.com/notebooks/data_table.ipynb>data table notebook</a>'\n",
              "            + ' to learn more about interactive tables.';\n",
              "          element.innerHTML = '';\n",
              "          dataTable['output_type'] = 'display_data';\n",
              "          await google.colab.output.renderOutput(dataTable, element);\n",
              "          const docLink = document.createElement('div');\n",
              "          docLink.innerHTML = docLinkHtml;\n",
              "          element.appendChild(docLink);\n",
              "        }\n",
              "      </script>\n",
              "    </div>\n",
              "  </div>\n",
              "  "
            ]
          },
          "metadata": {},
          "execution_count": 44
        }
      ]
    },
    {
      "cell_type": "code",
      "source": [
        "titanic_df.loc[1]"
      ],
      "metadata": {
        "colab": {
          "base_uri": "https://localhost:8080/"
        },
        "id": "Umfhdox8de6S",
        "outputId": "e4a1e496-fab6-46a4-9132-1f8d89eb053a"
      },
      "execution_count": null,
      "outputs": [
        {
          "output_type": "execute_result",
          "data": {
            "text/plain": [
              "Survived                          0\n",
              "Pclass                            3\n",
              "Name        Braund, Mr. Owen Harris\n",
              "Sex                            male\n",
              "Age                            22.0\n",
              "SibSp                             1\n",
              "Parch                             0\n",
              "Ticket                    A/5 21171\n",
              "Fare                           7.25\n",
              "Cabin                           NaN\n",
              "Embarked                          S\n",
              "Name: 1, dtype: object"
            ]
          },
          "metadata": {},
          "execution_count": 46
        }
      ]
    },
    {
      "cell_type": "markdown",
      "metadata": {
        "id": "sqA2PsbHrRTz"
      },
      "source": [
        "It is probably useful now to obtain a **summary of the features and their data types** - roughly, here, we are looking primarily into the distinction between numbers (discrete and continuous) and strings; also, we can obtain an idea of **number of observations** and the number of **missing values** for each feature."
      ]
    },
    {
      "cell_type": "code",
      "metadata": {
        "id": "YZG1LqlHAVJS"
      },
      "source": [
        "titanic_df.head(1)"
      ],
      "execution_count": null,
      "outputs": []
    },
    {
      "cell_type": "code",
      "metadata": {
        "id": "Iu3FGMthrRTz",
        "colab": {
          "base_uri": "https://localhost:8080/"
        },
        "outputId": "213ea80f-645e-4c87-9e0b-3f5e339e7b5e"
      },
      "source": [
        "titanic_df.info()"
      ],
      "execution_count": null,
      "outputs": [
        {
          "output_type": "stream",
          "name": "stdout",
          "text": [
            "<class 'pandas.core.frame.DataFrame'>\n",
            "Int64Index: 891 entries, 1 to 891\n",
            "Data columns (total 11 columns):\n",
            " #   Column    Non-Null Count  Dtype  \n",
            "---  ------    --------------  -----  \n",
            " 0   Survived  891 non-null    int64  \n",
            " 1   Pclass    891 non-null    int64  \n",
            " 2   Name      891 non-null    object \n",
            " 3   Sex       891 non-null    object \n",
            " 4   Age       714 non-null    float64\n",
            " 5   SibSp     891 non-null    int64  \n",
            " 6   Parch     891 non-null    int64  \n",
            " 7   Ticket    891 non-null    object \n",
            " 8   Fare      891 non-null    float64\n",
            " 9   Cabin     204 non-null    object \n",
            " 10  Embarked  889 non-null    object \n",
            "dtypes: float64(2), int64(4), object(5)\n",
            "memory usage: 83.5+ KB\n"
          ]
        }
      ]
    },
    {
      "cell_type": "markdown",
      "metadata": {
        "id": "_HuMVKNPrRT0"
      },
      "source": [
        "Notice the non-null instances for each feature. The low-level `numpy` data types here usually tell us that `int64` are whole numbers (integers), `float64` are continuous values (floats), and `object` are strings."
      ]
    },
    {
      "cell_type": "markdown",
      "metadata": {
        "id": "eqHCybO5rRT0"
      },
      "source": [
        "At this stage, pick a **subset of quantitative features** - say, `Age` and `Fare` - and look at their **data distributions**. Firstly, produce a table with their usual **5-number summary** (e.g., median, range) and mean/standard deviation."
      ]
    },
    {
      "cell_type": "code",
      "metadata": {
        "id": "ncsQvIC7rRT0",
        "colab": {
          "base_uri": "https://localhost:8080/"
        },
        "outputId": "90691fe9-3b80-4491-9f59-0766d81b3229"
      },
      "source": [
        "titanic_df['Age'].describe()"
      ],
      "execution_count": null,
      "outputs": [
        {
          "output_type": "execute_result",
          "data": {
            "text/plain": [
              "count    714.000000\n",
              "mean      29.699118\n",
              "std       14.526497\n",
              "min        0.420000\n",
              "25%       20.125000\n",
              "50%       28.000000\n",
              "75%       38.000000\n",
              "max       80.000000\n",
              "Name: Age, dtype: float64"
            ]
          },
          "metadata": {},
          "execution_count": 32
        }
      ]
    },
    {
      "cell_type": "markdown",
      "metadata": {
        "id": "xDCJXYaSrRT0"
      },
      "source": [
        "It might be easier to plot those distributions, so make use of `pandas` (via DataFrames) and `seaborn` functionality to plot **histograms** and **KDEs** (and those combined); also, **boxplots**."
      ]
    },
    {
      "cell_type": "markdown",
      "metadata": {
        "id": "pfANHLLNrRT2"
      },
      "source": [
        "It makes sense to simply remove the missing values of `Age` to have a better display of their distribution with `.distplot()`."
      ]
    },
    {
      "cell_type": "code",
      "metadata": {
        "id": "VYLII5UZrRT3",
        "colab": {
          "base_uri": "https://localhost:8080/",
          "height": 448
        },
        "outputId": "5d9f127a-ee20-4744-b746-4c515985b5d8"
      },
      "source": [
        "sns.histplot(titanic_df['Age'], kde=True);"
      ],
      "execution_count": null,
      "outputs": [
        {
          "output_type": "display_data",
          "data": {
            "text/plain": [
              "<Figure size 792x504 with 1 Axes>"
            ],
            "image/png": "[encoded data removed]"
          },
          "metadata": {}
        }
      ]
    },
    {
      "cell_type": "markdown",
      "metadata": {
        "id": "6ZX5iyRVrRT3"
      },
      "source": [
        "Customise the distribution plot on `Age` so that, instead of the default, the histogram splits the data into 10 bins. Useful to compare the two plots and see how the KDE is relatively stable across different binning choices."
      ]
    },
    {
      "cell_type": "code",
      "metadata": {
        "id": "42mJHPX7rRT3"
      },
      "source": [
        "sns.histplot(titanic_df['Age'], bins=10, kde=True);"
      ],
      "execution_count": null,
      "outputs": []
    },
    {
      "cell_type": "code",
      "metadata": {
        "id": "3tGlsiFjrRT3"
      },
      "source": [
        "sns.boxplot(x=titanic_df['Age']);"
      ],
      "execution_count": null,
      "outputs": []
    },
    {
      "cell_type": "code",
      "metadata": {
        "id": "8VUysU1grRT2"
      },
      "source": [
        "sns.histplot(titanic_df['Fare'], kde=True);"
      ],
      "execution_count": null,
      "outputs": []
    },
    {
      "cell_type": "markdown",
      "metadata": {
        "id": "AG1WuLmWrRT3"
      },
      "source": [
        "Now that you have explored some quantitative data, do something similar for **nominal features** (say, `Embarked`, `Pclass`). You will probably need types of plots that are more suitable for categorical data (e.g., bar plots). Feel free to customise `axis` objects (for example, by setting `x` and `y` labels)."
      ]
    },
    {
      "cell_type": "code",
      "metadata": {
        "id": "J-A7ssBsrRT4",
        "colab": {
          "base_uri": "https://localhost:8080/"
        },
        "outputId": "a202da19-f85e-4dc3-c883-3fd78d0773ce"
      },
      "source": [
        "titanic_df['Embarked'].value_counts()"
      ],
      "execution_count": null,
      "outputs": [
        {
          "output_type": "execute_result",
          "data": {
            "text/plain": [
              "S    644\n",
              "C    168\n",
              "Q     77\n",
              "Name: Embarked, dtype: int64"
            ]
          },
          "metadata": {},
          "execution_count": 38
        }
      ]
    },
    {
      "cell_type": "code",
      "metadata": {
        "id": "9VvrRvB3rRT4",
        "colab": {
          "base_uri": "https://localhost:8080/",
          "height": 430
        },
        "outputId": "a82491f2-03f1-496b-afcd-87bba62ade1c"
      },
      "source": [
        "titanic_df['Embarked'].value_counts().plot.bar();"
      ],
      "execution_count": null,
      "outputs": [
        {
          "output_type": "display_data",
          "data": {
            "text/plain": [
              "<Figure size 792x504 with 1 Axes>"
            ],
            "image/png": "[encoded data removed]"
          },
          "metadata": {}
        }
      ]
    },
    {
      "cell_type": "code",
      "metadata": {
        "id": "r94GaWwlrRT4",
        "colab": {
          "base_uri": "https://localhost:8080/",
          "height": 451
        },
        "outputId": "d639fb6c-e4e6-4924-f939-ae358e075156"
      },
      "source": [
        "ax = titanic_df['Embarked'].value_counts().plot.bar()\n",
        "ax.set_xlabel('Embarkment Location')\n",
        "ax.set_ylabel('Number of Passengers')\n",
        "ax.set_ylim(0,700);"
      ],
      "execution_count": null,
      "outputs": [
        {
          "output_type": "display_data",
          "data": {
            "text/plain": [
              "<Figure size 792x504 with 1 Axes>"
            ],
            "image/png": "[encoded data removed]"
          },
          "metadata": {}
        }
      ]
    },
    {
      "cell_type": "code",
      "source": [
        "ax = titanic_df['Embarked'].value_counts().plot.pie()"
      ],
      "metadata": {
        "colab": {
          "base_uri": "https://localhost:8080/",
          "height": 411
        },
        "id": "9qre6GCefG17",
        "outputId": "a194da8d-cd0d-4bbf-c0e3-e308fc69e91f"
      },
      "execution_count": null,
      "outputs": [
        {
          "output_type": "display_data",
          "data": {
            "text/plain": [
              "<Figure size 792x504 with 1 Axes>"
            ],
            "image/png": "[encoded data removed]"
          },
          "metadata": {}
        }
      ]
    },
    {
      "cell_type": "markdown",
      "metadata": {
        "id": "iZ7pKFHjrRT4"
      },
      "source": [
        "Use, then, `seaborn`'s alternatives for plotting the frequency distribution of `Embarked`."
      ]
    },
    {
      "cell_type": "code",
      "metadata": {
        "id": "jadUs_NWrRT4"
      },
      "source": [
        "ax = sns.countplot(titanic_df['Embarked'])\n",
        "ax.set_ylabel('Number of Passengers');"
      ],
      "execution_count": null,
      "outputs": []
    },
    {
      "cell_type": "markdown",
      "metadata": {
        "id": "c6geGawnrRT4"
      },
      "source": [
        "Notice that `Pclass` is a categorical feature - `pandas`, by default, will infer its type from the dataset as a number, and make it `int64`. It is probably useful here to turn it into a `pandas` category; the same would apply to `Survived`.\n"
      ]
    },
    {
      "cell_type": "code",
      "metadata": {
        "id": "sOeNGLUnIX3b"
      },
      "source": [
        "sns.countplot(x=titanic_df['Pclass']);"
      ],
      "execution_count": null,
      "outputs": []
    },
    {
      "cell_type": "code",
      "metadata": {
        "id": "26w1UQbZrRT5"
      },
      "source": [
        "sns.countplot(titanic_df['Pclass']);"
      ],
      "execution_count": null,
      "outputs": []
    },
    {
      "cell_type": "markdown",
      "metadata": {
        "id": "BCS2DNnfrRT5"
      },
      "source": [
        "You could now explore some subsets of the data... Let us take a **random, small sample of passengers** that did not travel with parents or children. Then, we should extend that to those that **did not travel with family at all**. It would be interesting to see a **frequency distribution of `Survived`** for that subset of passengers with no parents or children. **How does it compare** to the one for the whole dataset? One can use counts as well as percentages here."
      ]
    },
    {
      "cell_type": "code",
      "metadata": {
        "id": "ywSaC33_rRT5"
      },
      "source": [
        "titanic_df.loc[ titanic_df['Parch']==0 ].sample(5)"
      ],
      "execution_count": null,
      "outputs": []
    },
    {
      "cell_type": "code",
      "metadata": {
        "id": "Xp8hZ_grrRT5"
      },
      "source": [
        "titanic_df.loc[ titanic_df['Parch']==0, 'Survived' ].value_counts().plot.bar();"
      ],
      "execution_count": null,
      "outputs": []
    },
    {
      "cell_type": "markdown",
      "metadata": {
        "id": "Hc47JwLUrRT6"
      },
      "source": [
        "Could also use **relative**, rather than absolute, frequencies:"
      ]
    },
    {
      "cell_type": "code",
      "metadata": {
        "id": "n-t-px_RrRT5",
        "colab": {
          "base_uri": "https://localhost:8080/"
        },
        "outputId": "c27bb21d-15ec-43e0-8073-239f482627bf"
      },
      "source": [
        "titanic_df.loc[ titanic_df['Parch']==0, 'Survived' ].value_counts(normalize=True)"
      ],
      "execution_count": null,
      "outputs": [
        {
          "output_type": "execute_result",
          "data": {
            "text/plain": [
              "0    0.656342\n",
              "1    0.343658\n",
              "Name: Survived, dtype: float64"
            ]
          },
          "metadata": {},
          "execution_count": 51
        }
      ]
    },
    {
      "cell_type": "code",
      "metadata": {
        "id": "sHkrIOHQrRT6",
        "colab": {
          "base_uri": "https://localhost:8080/",
          "height": 428
        },
        "outputId": "a3560ee7-b1ac-4377-d656-6489b2fd8fec"
      },
      "source": [
        "titanic_df.loc[ titanic_df['Parch']==0, 'Survived' ].value_counts(normalize=True).plot.bar();"
      ],
      "execution_count": null,
      "outputs": [
        {
          "output_type": "display_data",
          "data": {
            "text/plain": [
              "<Figure size 792x504 with 1 Axes>"
            ],
            "image/png": "[encoded data removed]"
          },
          "metadata": {}
        }
      ]
    },
    {
      "cell_type": "code",
      "metadata": {
        "id": "v3NbHcuUrRT6",
        "colab": {
          "base_uri": "https://localhost:8080/",
          "height": 428
        },
        "outputId": "63f29c1a-eaee-4478-96cb-733a637fb858"
      },
      "source": [
        "titanic_df['Survived'].value_counts(normalize=True).plot.bar();"
      ],
      "execution_count": null,
      "outputs": [
        {
          "output_type": "display_data",
          "data": {
            "text/plain": [
              "<Figure size 792x504 with 1 Axes>"
            ],
            "image/png": "[encoded data removed]"
          },
          "metadata": {}
        }
      ]
    },
    {
      "cell_type": "markdown",
      "metadata": {
        "id": "UDX4LySsrRT6"
      },
      "source": [
        "Out of curiosity, was there any passenger with the surname `Cameron`? At this stage, let us simply check that it is part of passenger's name. "
      ]
    },
    {
      "cell_type": "code",
      "metadata": {
        "id": "ta7kTI8XMQl9"
      },
      "source": [
        "titanic_df['Name']"
      ],
      "execution_count": null,
      "outputs": []
    },
    {
      "cell_type": "code",
      "metadata": {
        "id": "c0FjM-A4McFo"
      },
      "source": [
        "titanic_df['Fare'].round(0)"
      ],
      "execution_count": null,
      "outputs": []
    },
    {
      "cell_type": "code",
      "metadata": {
        "id": "CCIsQTNaLnry"
      },
      "source": [
        "titanic_df['Name'].str.lower()"
      ],
      "execution_count": null,
      "outputs": []
    },
    {
      "cell_type": "code",
      "metadata": {
        "id": "F8aiQzTYrRT6"
      },
      "source": [
        "titanic_df['Name'].str.upper()"
      ],
      "execution_count": null,
      "outputs": []
    },
    {
      "cell_type": "code",
      "metadata": {
        "id": "ryTwHqg9NMu9"
      },
      "source": [
        "titanic_df['Name'].str.contains('Cameron')"
      ],
      "execution_count": null,
      "outputs": []
    },
    {
      "cell_type": "code",
      "metadata": {
        "id": "xLNzMgxXrRT6"
      },
      "source": [
        "titanic_df.loc[ titanic_df['Name'].str.contains('Cameron') ]"
      ],
      "execution_count": null,
      "outputs": []
    },
    {
      "cell_type": "markdown",
      "metadata": {
        "id": "4YczTAeQrRT6"
      },
      "source": [
        "Oh, and **how many passengers did not travel with family**? And as a **percentage**?"
      ]
    },
    {
      "cell_type": "code",
      "metadata": {
        "id": "JFFvhoiJrRT6"
      },
      "source": [
        "titanic_df.loc[ (titanic_df['Parch']==0) & (titanic_df['SibSp']==0) ].sample(5)"
      ],
      "execution_count": null,
      "outputs": []
    },
    {
      "cell_type": "code",
      "metadata": {
        "id": "a-CKZASurRT6"
      },
      "source": [
        "len(titanic_df.loc[ (titanic_df['Parch']==0) & (titanic_df['SibSp']==0) ])"
      ],
      "execution_count": null,
      "outputs": []
    },
    {
      "cell_type": "code",
      "metadata": {
        "id": "qSF_lh3frRT7"
      },
      "source": [
        "len(titanic_df.loc[ (titanic_df['Parch']==0) & (titanic_df['SibSp']==0) ]) / len(titanic_df) * 100"
      ],
      "execution_count": null,
      "outputs": []
    },
    {
      "cell_type": "markdown",
      "metadata": {
        "id": "4S1Jt25-rRT7"
      },
      "source": [
        "It would be interesting to find out the **highest fares paid** - say, at the top percentile - and a sample of the **passengers that paid those fares**. How many of them? Show the top 5 payers, just out of curiosity."
      ]
    },
    {
      "cell_type": "code",
      "metadata": {
        "id": "v5TD_9garRT7",
        "colab": {
          "base_uri": "https://localhost:8080/"
        },
        "outputId": "27aa1c16-ae1c-4440-edd0-e9df0774c439"
      },
      "source": [
        "fare_99percentile = titanic_df['Fare'].quantile(0.99)\n",
        "fare_99percentile"
      ],
      "execution_count": null,
      "outputs": [
        {
          "output_type": "execute_result",
          "data": {
            "text/plain": [
              "249.00622000000035"
            ]
          },
          "metadata": {},
          "execution_count": 59
        }
      ]
    },
    {
      "cell_type": "code",
      "metadata": {
        "id": "ZPfYJ5sQrRT7",
        "colab": {
          "base_uri": "https://localhost:8080/",
          "height": 173
        },
        "outputId": "483adf16-7b83-4942-b835-46ddf3b7d753"
      },
      "source": [
        "titanic_df.loc[ titanic_df['Fare']>=fare_99percentile ].sample()"
      ],
      "execution_count": null,
      "outputs": [
        {
          "output_type": "execute_result",
          "data": {
            "text/plain": [
              "             Survived  Pclass              Name     Sex   Age  SibSp  Parch  \\\n",
              "PassengerId                                                                   \n",
              "259                 1       1  Ward, Miss. Anna  female  35.0      0      0   \n",
              "\n",
              "               Ticket      Fare Cabin Embarked  \n",
              "PassengerId                                     \n",
              "259          PC 17755  512.3292   NaN        C  "
            ],
            "text/html": [
              "\n",
              "  <div id=\"df-1dcd8069-dd61-44c5-b2d8-84d102c1f958\">\n",
              "    <div class=\"colab-df-container\">\n",
              "      <div>\n",
              "<style scoped>\n",
              "    .dataframe tbody tr th:only-of-type {\n",
              "        vertical-align: middle;\n",
              "    }\n",
              "\n",
              "    .dataframe tbody tr th {\n",
              "        vertical-align: top;\n",
              "    }\n",
              "\n",
              "    .dataframe thead th {\n",
              "        text-align: right;\n",
              "    }\n",
              "</style>\n",
              "<table border=\"1\" class=\"dataframe\">\n",
              "  <thead>\n",
              "    <tr style=\"text-align: right;\">\n",
              "      <th></th>\n",
              "      <th>Survived</th>\n",
              "      <th>Pclass</th>\n",
              "      <th>Name</th>\n",
              "      <th>Sex</th>\n",
              "      <th>Age</th>\n",
              "      <th>SibSp</th>\n",
              "      <th>Parch</th>\n",
              "      <th>Ticket</th>\n",
              "      <th>Fare</th>\n",
              "      <th>Cabin</th>\n",
              "      <th>Embarked</th>\n",
              "    </tr>\n",
              "    <tr>\n",
              "      <th>PassengerId</th>\n",
              "      <th></th>\n",
              "      <th></th>\n",
              "      <th></th>\n",
              "      <th></th>\n",
              "      <th></th>\n",
              "      <th></th>\n",
              "      <th></th>\n",
              "      <th></th>\n",
              "      <th></th>\n",
              "      <th></th>\n",
              "      <th></th>\n",
              "    </tr>\n",
              "  </thead>\n",
              "  <tbody>\n",
              "    <tr>\n",
              "      <th>259</th>\n",
              "      <td>1</td>\n",
              "      <td>1</td>\n",
              "      <td>Ward, Miss. Anna</td>\n",
              "      <td>female</td>\n",
              "      <td>35.0</td>\n",
              "      <td>0</td>\n",
              "      <td>0</td>\n",
              "      <td>PC 17755</td>\n",
              "      <td>512.3292</td>\n",
              "      <td>NaN</td>\n",
              "      <td>C</td>\n",
              "    </tr>\n",
              "  </tbody>\n",
              "</table>\n",
              "</div>\n",
              "      <button class=\"colab-df-convert\" onclick=\"convertToInteractive('df-1dcd8069-dd61-44c5-b2d8-84d102c1f958')\"\n",
              "              title=\"Convert this dataframe to an interactive table.\"\n",
              "              style=\"display:none;\">\n",
              "        \n",
              "  <svg xmlns=\"http://www.w3.org/2000/svg\" height=\"24px\"viewBox=\"0 0 24 24\"\n",
              "       width=\"24px\">\n",
              "    <path d=\"M0 0h24v24H0V0z\" fill=\"none\"/>\n",
              "    <path d=\"M18.56 5.44l.94 2.06.94-2.06 2.06-.94-2.06-.94-.94-2.06-.94 2.06-2.06.94zm-11 1L8.5 8.5l.94-2.06 2.06-.94-2.06-.94L8.5 2.5l-.94 2.06-2.06.94zm10 10l.94 2.06.94-2.06 2.06-.94-2.06-.94-.94-2.06-.94 2.06-2.06.94z\"/><path d=\"M17.41 7.96l-1.37-1.37c-.4-.4-.92-.59-1.43-.59-.52 0-1.04.2-1.43.59L10.3 9.45l-7.72 7.72c-.78.78-.78 2.05 0 2.83L4 21.41c.39.39.9.59 1.41.59.51 0 1.02-.2 1.41-.59l7.78-7.78 2.81-2.81c.8-.78.8-2.07 0-2.86zM5.41 20L4 18.59l7.72-7.72 1.47 1.35L5.41 20z\"/>\n",
              "  </svg>\n",
              "      </button>\n",
              "      \n",
              "  <style>\n",
              "    .colab-df-container {\n",
              "      display:flex;\n",
              "      flex-wrap:wrap;\n",
              "      gap: 12px;\n",
              "    }\n",
              "\n",
              "    .colab-df-convert {\n",
              "      background-color: #E8F0FE;\n",
              "      border: none;\n",
              "      border-radius: 50%;\n",
              "      cursor: pointer;\n",
              "      display: none;\n",
              "      fill: #1967D2;\n",
              "      height: 32px;\n",
              "      padding: 0 0 0 0;\n",
              "      width: 32px;\n",
              "    }\n",
              "\n",
              "    .colab-df-convert:hover {\n",
              "      background-color: #E2EBFA;\n",
              "      box-shadow: 0px 1px 2px rgba(60, 64, 67, 0.3), 0px 1px 3px 1px rgba(60, 64, 67, 0.15);\n",
              "      fill: #174EA6;\n",
              "    }\n",
              "\n",
              "    [theme=dark] .colab-df-convert {\n",
              "      background-color: #3B4455;\n",
              "      fill: #D2E3FC;\n",
              "    }\n",
              "\n",
              "    [theme=dark] .colab-df-convert:hover {\n",
              "      background-color: #434B5C;\n",
              "      box-shadow: 0px 1px 3px 1px rgba(0, 0, 0, 0.15);\n",
              "      filter: drop-shadow(0px 1px 2px rgba(0, 0, 0, 0.3));\n",
              "      fill: #FFFFFF;\n",
              "    }\n",
              "  </style>\n",
              "\n",
              "      <script>\n",
              "        const buttonEl =\n",
              "          document.querySelector('#df-1dcd8069-dd61-44c5-b2d8-84d102c1f958 button.colab-df-convert');\n",
              "        buttonEl.style.display =\n",
              "          google.colab.kernel.accessAllowed ? 'block' : 'none';\n",
              "\n",
              "        async function convertToInteractive(key) {\n",
              "          const element = document.querySelector('#df-1dcd8069-dd61-44c5-b2d8-84d102c1f958');\n",
              "          const dataTable =\n",
              "            await google.colab.kernel.invokeFunction('convertToInteractive',\n",
              "                                                     [key], {});\n",
              "          if (!dataTable) return;\n",
              "\n",
              "          const docLinkHtml = 'Like what you see? Visit the ' +\n",
              "            '<a target=\"_blank\" href=https://colab.research.google.com/notebooks/data_table.ipynb>data table notebook</a>'\n",
              "            + ' to learn more about interactive tables.';\n",
              "          element.innerHTML = '';\n",
              "          dataTable['output_type'] = 'display_data';\n",
              "          await google.colab.output.renderOutput(dataTable, element);\n",
              "          const docLink = document.createElement('div');\n",
              "          docLink.innerHTML = docLinkHtml;\n",
              "          element.appendChild(docLink);\n",
              "        }\n",
              "      </script>\n",
              "    </div>\n",
              "  </div>\n",
              "  "
            ]
          },
          "metadata": {},
          "execution_count": 55
        }
      ]
    },
    {
      "cell_type": "code",
      "metadata": {
        "id": "joljTMV9rRT7",
        "colab": {
          "base_uri": "https://localhost:8080/"
        },
        "outputId": "a5f1cddb-b921-465b-cb21-83b5bf8387a4"
      },
      "source": [
        "len(titanic_df.loc[ titanic_df['Fare']>=fare_99percentile ])"
      ],
      "execution_count": null,
      "outputs": [
        {
          "output_type": "execute_result",
          "data": {
            "text/plain": [
              "9"
            ]
          },
          "metadata": {},
          "execution_count": 56
        }
      ]
    },
    {
      "cell_type": "code",
      "metadata": {
        "id": "QcqgpdZErRT7"
      },
      "source": [
        "titanic_df.loc[ titanic_df['Fare']>=fare_99percentile ].sort_values('Fare').head(5)"
      ],
      "execution_count": null,
      "outputs": []
    },
    {
      "cell_type": "markdown",
      "metadata": {
        "id": "xF6nkLwnrRT7"
      },
      "source": [
        "What is the **`survived` frequency distribution** of those passengers in the **top 5% of fares**? Do we learn anything by comparing it what of those in **bottom 5%**? As with previous examples, you might want to see the numbers as a table as well as in a suitable plot."
      ]
    },
    {
      "cell_type": "code",
      "metadata": {
        "id": "ZaY2rgGZrRT7",
        "colab": {
          "base_uri": "https://localhost:8080/",
          "height": 265
        },
        "outputId": "e05ad177-8d9b-4c44-b74f-84fb5d74ec99"
      },
      "source": [
        "plt.subplots(figsize=(6,4))\n",
        "titanic_df.loc[ \n",
        "    titanic_df['Fare']>=titanic_df['Fare'].quantile(0.95), 'Survived' \n",
        "].value_counts(sort=False, normalize=True).plot.bar();"
      ],
      "execution_count": null,
      "outputs": [
        {
          "output_type": "display_data",
          "data": {
            "text/plain": [
              "<Figure size 432x288 with 1 Axes>"
            ],
            "image/png": "[encoded data removed]"
          },
          "metadata": {}
        }
      ]
    },
    {
      "cell_type": "code",
      "metadata": {
        "id": "11AGKvl0rRT8",
        "colab": {
          "base_uri": "https://localhost:8080/",
          "height": 265
        },
        "outputId": "d8bd0b50-25e9-4246-e1db-b59f9de054ec"
      },
      "source": [
        "plt.subplots(figsize=(6,4))\n",
        "titanic_df.loc[ \n",
        "    titanic_df['Fare']<=titanic_df['Fare'].quantile(0.05), 'Survived' \n",
        "].value_counts(sort=False, normalize=True).plot.bar();"
      ],
      "execution_count": null,
      "outputs": [
        {
          "output_type": "display_data",
          "data": {
            "text/plain": [
              "<Figure size 432x288 with 1 Axes>"
            ],
            "image/png": "[encoded data removed]"
          },
          "metadata": {}
        }
      ]
    },
    {
      "cell_type": "markdown",
      "metadata": {
        "id": "cGlKF5mVrRT8"
      },
      "source": [
        "How many **toddlers** were travelling? Was there any not travelling with their parents? Any with no siblings?"
      ]
    },
    {
      "cell_type": "code",
      "metadata": {
        "id": "zR5BSLbfrRT8"
      },
      "source": [
        "toddlers_df = titanic_df.loc[ (titanic_df['Age']>=1) & (titanic_df['Age']<=3) ]"
      ],
      "execution_count": null,
      "outputs": []
    },
    {
      "cell_type": "code",
      "metadata": {
        "id": "1rxWH3X-rRT8"
      },
      "source": [
        "len(toddlers_df)"
      ],
      "execution_count": null,
      "outputs": []
    },
    {
      "cell_type": "code",
      "metadata": {
        "id": "7EUOYs65rRT8"
      },
      "source": [
        "toddlers_df.loc[ (toddlers_df['Parch']==0) ]"
      ],
      "execution_count": null,
      "outputs": []
    },
    {
      "cell_type": "code",
      "metadata": {
        "id": "xZY9GfyBrRT8"
      },
      "source": [
        "toddlers_df.loc[ (toddlers_df['SibSp']==0) ]"
      ],
      "execution_count": null,
      "outputs": []
    },
    {
      "cell_type": "markdown",
      "metadata": {
        "id": "1NfCw43TrRT8"
      },
      "source": [
        "Would **age have been a significant factor in survival**? Let us take three slices of 5% of observations - the bottom, the middle, and the top ones - and look at the distribution of `Survived`."
      ]
    },
    {
      "cell_type": "code",
      "metadata": {
        "id": "jJi5h1-FrRT9"
      },
      "source": [],
      "execution_count": null,
      "outputs": []
    },
    {
      "cell_type": "markdown",
      "metadata": {
        "id": "l2NxqnwlrRT9"
      },
      "source": [
        "Of the **male passengers** that travelled **first-class**, how many survived and how many died? If we compare that to those in **third-class**, what can we learn?"
      ]
    },
    {
      "cell_type": "code",
      "metadata": {
        "id": "torWbPVMrRT9",
        "colab": {
          "base_uri": "https://localhost:8080/"
        },
        "outputId": "ab3fbc57-fae3-4f39-f009-2c35be9c8d06"
      },
      "source": [
        "titanic_df['Sex'].value_counts()"
      ],
      "execution_count": null,
      "outputs": [
        {
          "output_type": "execute_result",
          "data": {
            "text/plain": [
              "male      577\n",
              "female    314\n",
              "Name: Sex, dtype: int64"
            ]
          },
          "metadata": {},
          "execution_count": 65
        }
      ]
    },
    {
      "cell_type": "code",
      "source": [
        "plt.subplots(figsize=(6,4))\n",
        "titanic_df.loc[ \n",
        "    titanic_df['Sex']=='male', 'Survived' \n",
        "].value_counts(sort=False, normalize=True).plot.bar();"
      ],
      "metadata": {
        "colab": {
          "base_uri": "https://localhost:8080/",
          "height": 265
        },
        "id": "ldzfAEwiisrV",
        "outputId": "030aa539-9afa-43c8-8d29-689991c3f3c4"
      },
      "execution_count": null,
      "outputs": [
        {
          "output_type": "display_data",
          "data": {
            "text/plain": [
              "<Figure size 432x288 with 1 Axes>"
            ],
            "image/png": "[encoded data removed]"
          },
          "metadata": {}
        }
      ]
    },
    {
      "cell_type": "code",
      "source": [
        "plt.subplots(figsize=(6,4))\n",
        "titanic_df.loc[ \n",
        "    titanic_df['Sex']=='female', 'Survived' \n",
        "].value_counts(sort=False, normalize=True).plot.bar();"
      ],
      "metadata": {
        "colab": {
          "base_uri": "https://localhost:8080/",
          "height": 265
        },
        "id": "BRIkgZQoiwhP",
        "outputId": "8208d8d0-753a-4d04-e62e-3a2b0f69aaa6"
      },
      "execution_count": null,
      "outputs": [
        {
          "output_type": "display_data",
          "data": {
            "text/plain": [
              "<Figure size 432x288 with 1 Axes>"
            ],
            "image/png": "[encoded data removed]"
          },
          "metadata": {}
        }
      ]
    },
    {
      "cell_type": "code",
      "source": [
        "titanic_df.groupby(['Sex', 'Survived']).size().unstack().plot.bar();"
      ],
      "metadata": {
        "colab": {
          "base_uri": "https://localhost:8080/",
          "height": 476
        },
        "id": "BdwusuHXjCRL",
        "outputId": "b8097add-0f4f-419d-ce7c-226783328490"
      },
      "execution_count": null,
      "outputs": [
        {
          "output_type": "display_data",
          "data": {
            "text/plain": [
              "<Figure size 792x504 with 1 Axes>"
            ],
            "image/png": "[encoded data removed]"
          },
          "metadata": {}
        }
      ]
    },
    {
      "cell_type": "code",
      "source": [],
      "metadata": {
        "id": "QbKPPavakD63"
      },
      "execution_count": null,
      "outputs": []
    }
  ]
}